{
 "cells": [
  {
   "attachments": {},
   "cell_type": "markdown",
   "metadata": {},
   "source": [
    "Ibnu Farhan Al-Ghifari \n",
    "121450121\n",
    "Sains Data \n"
   ]
  },
  {
   "attachments": {},
   "cell_type": "markdown",
   "metadata": {},
   "source": [
    "# 1. Jelaskan menggunakan tabel mengenai kelebihan dan kekurangan paradigma procedural dibandingkan dengan object oriented (minimal 3) !\n",
    "\n",
    "| Kelebihan | Kelemahan |\n",
    "|------------|--------------| \n",
    "| Cocok untuk program sederhana | Kurang cocok untuk program kompleks | \n",
    "| Lebih mudah dipahami dibandingkan Object Oriented | kurang aman |\n",
    "| menggunakan memori yang lebih sedikit | fungsi sulit untuk diubah/dimodifikasi |\n",
    "\n",
    "\n",
    "\n",
    "\n"
   ]
  },
  {
   "attachments": {},
   "cell_type": "markdown",
   "metadata": {},
   "source": [
    "2. Jelaskan menggunakan tabel mengenai kelebihan dan kekurangan paradigma object oriented dibandingkan dengan functional (minimal 3) !\n",
    "\n",
    "\n",
    "| Kelebihan | Kelemahan |\n",
    "|------------|--------------| \n",
    "| algoritma lebih jelas dairipada fungsional | program lebih kompleks dan banyak | \n",
    "| Cocok untuk program kompleks |  pemakaian momori yang lebih besar |\n",
    "| reusability(dapat digunakan kembali) | sulit dipahami |\n",
    "\n",
    "\n",
    "\n"
   ]
  },
  {
   "attachments": {},
   "cell_type": "markdown",
   "metadata": {},
   "source": [
    "3. Jelaskan menggunakan tabel mengenai kelebihan dan kekurangan paradigma procedural dibandingkan dengan functional (minimal 3) !\n",
    "\n",
    "|kelebihan | kekurangan |\n",
    "|-------|-----|\n",
    "| mudah dipahami |\tMemiliki algoritma pemecahan masalah yanag sederhana |\n",
    "| Memiliki algoritma pemecahan masalah yanag sederhana|\tMungkin dapat bekerja dengan baik pada saat terisolasi tapi tidak pada saat terintegrasi dengan sistem lain. |\n",
    "|Data bersifat mutable | fungsi sulit untuk diubah/dimodifikasi |"
   ]
  },
  {
   "attachments": {},
   "cell_type": "markdown",
   "metadata": {},
   "source": [
    "|"
   ]
  },
  {
   "attachments": {},
   "cell_type": "markdown",
   "metadata": {},
   "source": [
    " # 4. Apa yang dimaksud dengan pure functional programming language?\n",
    "\n",
    "\n",
    "\"Pure functional programming language adalah di mana pada fungsinya menerima parameter sebagai input dan mengembalikan nilai, tanpa mengubah nilai dari variabel manapun\""
   ]
  },
  {
   "attachments": {},
   "cell_type": "markdown",
   "metadata": {},
   "source": [
    " # 5. Dari bahasa pemrograman FP di slide sebelumnya ( slide 14 ) , manakah yang termasuk pure functional programming language?\n",
    "\n",
    " Lisp, Haskell"
   ]
  },
  {
   "attachments": {},
   "cell_type": "markdown",
   "metadata": {},
   "source": [
    "# 6. Membuat program Simple Password encryption, dengan ketentuan\n",
    "\n",
    "1. Input password bertipe string dengan batasan panjang password 100 karakter\n",
    "2. Setiap karakter dari string tersebut diubah menjadi ASCII value\n",
    "3. Kemudian setiap ASCII value tersebut dikembangkan menjadi 3 value dengan dilakukan operasi berikut:\n",
    "1. Value pertama dibagi dengan integer 26 kemudian dibulatkan dan dijumlahkan dengan 80 kemudian diubah kembali menjadi karakter\n",
    "2. Value kedua dihitung sisa bagi dengan 26 kemudian dijumlahkan dengan 80 kemudian diubah kembali menjadi karakter\n",
    "3. Value ketiga adalah karakter ‘+’ jika value pertama lebih besar dari value kedua, atau value ketiga adalah karakter ‘-’ jika value pertama tidak lebih besar dari value kedua\n",
    "4. Deretkan value pertama, kedua dan ketiga untuk setiap karakter dalam password tersebut sehingga didapatkan password dalam bentuk baru"
   ]
  },
  {
   "cell_type": "markdown",
   "metadata": {},
   "source": []
  },
  {
   "cell_type": "code",
   "execution_count": 30,
   "metadata": {},
   "outputs": [
    {
     "name": "stdout",
     "output_type": "stream",
     "text": [
      "TQ+TQ+TQ+\n"
     ]
    }
   ],
   "source": [
    "def enkripsi(pas):\n",
    "    if len(pas) > 100:\n",
    "        return \"Kata melebihi batas\"\n",
    "    elif len(pas) < 3: \n",
    "        return \"kata kurang banyak\"\n",
    "   \n",
    "\n",
    "\n",
    "    enkripsi_password = \"\"\n",
    "    for char in pas:\n",
    "        ascii_value = ord(char) \n",
    "        value_1 = chr(round((ascii_value / 26)) + 80) \n",
    "        value_2 = chr((ascii_value % 26) + 80)\n",
    "        if value_1 > value_2:\n",
    "            value_3 = '+'; \n",
    "        else:\n",
    "            value_3 = '-'\n",
    "        enkripsi_password += value_1 + value_2 + value_3\n",
    "    print(enkripsi_password)\n",
    "    \n",
    "   \n",
    "\n",
    "password = input(\"Enter Password: \") #contoh \"institut teknologi sumatera\"\n",
    "enkripsi(password)\n",
    "\n",
    "\n",
    "\n"
   ]
  },
  {
   "cell_type": "code",
   "execution_count": null,
   "metadata": {},
   "outputs": [],
   "source": []
  }
 ],
 "metadata": {
  "kernelspec": {
   "display_name": "Python 3",
   "language": "python",
   "name": "python3"
  },
  "language_info": {
   "codemirror_mode": {
    "name": "ipython",
    "version": 3
   },
   "file_extension": ".py",
   "mimetype": "text/x-python",
   "name": "python",
   "nbconvert_exporter": "python",
   "pygments_lexer": "ipython3",
   "version": "3.10.7"
  },
  "orig_nbformat": 4,
  "vscode": {
   "interpreter": {
    "hash": "cd844455b4044aa9d3989e0200a63dac8f95b37a0bbb344bd4f2a96fbf3af8cb"
   }
  }
 },
 "nbformat": 4,
 "nbformat_minor": 2
}
